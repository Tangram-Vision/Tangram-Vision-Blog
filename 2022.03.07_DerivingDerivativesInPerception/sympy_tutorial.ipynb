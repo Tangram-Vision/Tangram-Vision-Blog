{
 "cells": [
  {
   "cell_type": "code",
   "execution_count": 1,
   "id": "d5c9aab4",
   "metadata": {},
   "outputs": [],
   "source": [
    "import sympy as sp"
   ]
  },
  {
   "cell_type": "markdown",
   "id": "53b75393",
   "metadata": {},
   "source": [
    "# Pinhole Camera Model\n",
    "\n",
    "We'll start with a relatively simple example. Borrowing from the camera calibration example, we'll use the Pinhole Camera Model. This model maps points in 3D to pixels. $f$ is the focal length, $c_x, c_y$ are the camera's principal point, $X, Y, Z$ is a point in 3D, and $u, v$ are the resulting pixel locations. Check out the [camera calibration blog post](https://www.tangramvision.com/blog/calibration-from-scratch-using-rust-part-1-of-3) for a refresher on these parameters.\n",
    "\n",
    "$$ \\begin{bmatrix}u_{pix} \\\\v_{pix}\\end{bmatrix} =\\begin{bmatrix}f \\frac{X}{Z} + c_x \\\\ f \\frac{Y}{Z} + c_y\\end{bmatrix} $$\n",
    "\n",
    "In keeping with the optimization theme, we'll convert this into a residual function. The residual here is there difference between an observed pixel location and the expected pixel location we get by passing the corresponding 3D point through the model. To perform camera calibration as described in the [Camera Calibration from Scratch blog post](https://www.tangramvision.com/blog/calibration-from-scratch-using-rust-part-1-of-3), we iteratively change the camera parameters ($f, c_x, c_y$) until the sum of squared residuals is minimized.\n",
    "\n",
    "$$ r(u, v, f, c_x, c_y, X, Y, Z) = \\begin{bmatrix}u_{obs} \\\\v_{obs}\\end{bmatrix} - \\begin{bmatrix}f \\frac{X}{Z} + c_x \\\\ f \\frac{Y}{Z} + c_y\\end{bmatrix} $$\n",
    "\n",
    "Performing this minimization requires providing residuals and Jacobians of those residuals to the optimization algorithm. We've just provided the expression for the residual, so now let's focus on the Jacobian.\n",
    "\n",
    "First we'll start by enumerating the symbols in the function in question. We pass to the `symbols()` function a list of symbol names we'll be using and it'll return handles to those names. The symbol names and python variable names don't need to be the same even though they are here."
   ]
  },
  {
   "cell_type": "code",
   "execution_count": 2,
   "id": "ba716c9b",
   "metadata": {},
   "outputs": [
    {
     "data": {
      "text/latex": [
       "$\\displaystyle f$"
      ],
      "text/plain": [
       "f"
      ]
     },
     "metadata": {},
     "output_type": "display_data"
    },
    {
     "data": {
      "text/latex": [
       "$\\displaystyle c_{x}$"
      ],
      "text/plain": [
       "c_x"
      ]
     },
     "metadata": {},
     "output_type": "display_data"
    },
    {
     "data": {
      "text/latex": [
       "$\\displaystyle c_{y}$"
      ],
      "text/plain": [
       "c_y"
      ]
     },
     "metadata": {},
     "output_type": "display_data"
    }
   ],
   "source": [
    "# u, v are optional since we don't optimize them and they're linearly separate terms\n",
    "u, v, f, cx, cy, X, Y, Z = sp.symbols('u, v, f, c_x, c_y, X, Y, Z')\n",
    "display(f, cx, cy)"
   ]
  },
  {
   "cell_type": "markdown",
   "id": "c34aeecf",
   "metadata": {},
   "source": [
    "Next we'll build the residual vector expression. We'll do by creating a `Matrix`."
   ]
  },
  {
   "cell_type": "code",
   "execution_count": 3,
   "id": "d33bb10c",
   "metadata": {},
   "outputs": [
    {
     "data": {
      "text/latex": [
       "$\\displaystyle \\left[\\begin{matrix}- \\frac{X f}{Z} - c_{x} + u\\\\- \\frac{Y f}{Z} - c_{y} + v\\end{matrix}\\right]$"
      ],
      "text/plain": [
       "Matrix([\n",
       "[-X*f/Z - c_x + u],\n",
       "[-Y*f/Z - c_y + v]])"
      ]
     },
     "metadata": {},
     "output_type": "display_data"
    }
   ],
   "source": [
    "resid = sp.Matrix([u - (f*X/Z+cx), v - (f*Y/Z+cy)])\n",
    "display(resid)"
   ]
  },
  {
   "cell_type": "markdown",
   "id": "ee96c563",
   "metadata": {},
   "source": [
    "Now we build the parameter vector, i.e. the list of parameters we wish optimize. Since this is a camera calibration example, this is just $ f, c_x, c_y$, the focal length and principal point of our camera. The other parameters are observations or constants we don't optimize."
   ]
  },
  {
   "cell_type": "code",
   "execution_count": 4,
   "id": "b3ea0daa",
   "metadata": {},
   "outputs": [],
   "source": [
    "parameter_vector = sp.Matrix([f, cx, cy])"
   ]
  },
  {
   "cell_type": "markdown",
   "id": "08835441",
   "metadata": {},
   "source": [
    "Now we just call the `jacobian()` method on the residual vector, passing the parameter vector. This will generate the Jacobian of the residual expression with respect to the parameters we passed. Note the dimensions. The residual has two rows and thus so does the Jacobian. There are three input parameters and thus the Jacobian has three columns."
   ]
  },
  {
   "cell_type": "code",
   "execution_count": 5,
   "id": "70810a6f",
   "metadata": {},
   "outputs": [
    {
     "data": {
      "text/latex": [
       "$\\displaystyle \\left[\\begin{matrix}- \\frac{X}{Z} & -1 & 0\\\\- \\frac{Y}{Z} & 0 & -1\\end{matrix}\\right]$"
      ],
      "text/plain": [
       "Matrix([\n",
       "[-X/Z, -1,  0],\n",
       "[-Y/Z,  0, -1]])"
      ]
     },
     "execution_count": 5,
     "metadata": {},
     "output_type": "execute_result"
    }
   ],
   "source": [
    "resid.jacobian(parameter_vector)"
   ]
  },
  {
   "cell_type": "markdown",
   "id": "287c991b",
   "metadata": {},
   "source": [
    "If we instead wanted to optimize the 3D point($ \\begin{bmatrix}X & Y & Z\\end{bmatrix} $) like one might see in [iterative PnP](https://en.wikipedia.org/wiki/Perspective-n-Point) or [Bundle Adjustment](https://en.wikipedia.org/wiki/Bundle_adjustment) problems, we would change the parameter vector to contain those points."
   ]
  },
  {
   "cell_type": "code",
   "execution_count": 6,
   "id": "b3b4713e",
   "metadata": {},
   "outputs": [
    {
     "data": {
      "text/latex": [
       "$\\displaystyle \\left[\\begin{matrix}- \\frac{f}{Z} & 0 & \\frac{X f}{Z^{2}}\\\\0 & - \\frac{f}{Z} & \\frac{Y f}{Z^{2}}\\end{matrix}\\right]$"
      ],
      "text/plain": [
       "Matrix([\n",
       "[-f/Z,    0, X*f/Z**2],\n",
       "[   0, -f/Z, Y*f/Z**2]])"
      ]
     },
     "execution_count": 6,
     "metadata": {},
     "output_type": "execute_result"
    }
   ],
   "source": [
    "parameter_vector_point = sp.Matrix([X, Y, Z])\n",
    "resid.jacobian(parameter_vector_point)"
   ]
  },
  {
   "cell_type": "markdown",
   "id": "baaa53f1",
   "metadata": {},
   "source": [
    "# Brown Conrady Distortion Model\n",
    "\n",
    "Now let's try something more complicated. The Pinhole model can be extended to better model cameras with [lens distortion](https://en.wikipedia.org/wiki/Distortion_(optics)). The [Brown-Conrady model](https://docs.opencv.org/3.4/d9/d0c/group__calib3d.html#details) is one of the most common of such models; OpenCV implements it in its `calib3d` library. The model has additional coefficients ($k1, k2, k3, p1, p2$), with $k$ coefficients modeling [radial distortion](https://www.tangramvision.com/blog/camera-modeling-exploring-distortion-and-distortion-models-part-i#symmetric-radial-distortions) and $p$ coefficients modeling [tangential distortion](https://www.tangramvision.com/blog/camera-modeling-exploring-distortion-and-distortion-models-part-i#tangential-de-centering-distortions). We'll use the same notation conventions as with the Pinhole model and show how a 3D point gets mapped to a pixel in the presence of distortion:\n",
    "\n",
    "$$ \\begin{bmatrix}x' \\\\y'\\end{bmatrix} = \\begin{bmatrix}X/Z \\\\Y/Z\\end{bmatrix} $$\n",
    "$$ r^2 = x'^2 + y'^2 $$\n",
    "$$ \\begin{bmatrix} x'' \\\\ y'' \\end{bmatrix} = \\begin{bmatrix} x' ( 1+ k_1r^2 + k_2 r^4 + k_3 r^6) + 2p_1 x' y' + p_2 ( r^2 + 2 x' ^2) \\\\ y' ( 1+ k_1r^2 + k_2 r^4 + k_3 r^6) + p_1 ( r^2 + 2 y' ^2) + 2 p_2 x' y' \\end{bmatrix} $$\n",
    "$$ \\begin{bmatrix}u_{calc} \\\\v_{calc}\\end{bmatrix} = \\begin{bmatrix}f x'' + c_x \\\\ f y'' + c_y\\end{bmatrix} $$\n",
    "And as a residual:\n",
    "$$ r(u, v, f, c_x, c_y, X, Y, Z, k_1, k_2, k_3, p_1, p_2) = \\begin{bmatrix}u_{obs} \\\\v_{obs}\\end{bmatrix} - \\begin{bmatrix}f x'' + c_x \\\\ f y'' + c_y\\end{bmatrix} $$\n",
    "\n",
    "We'll start by modeling the distortion in SymPy:"
   ]
  },
  {
   "cell_type": "code",
   "execution_count": 7,
   "id": "1105a77b",
   "metadata": {},
   "outputs": [
    {
     "data": {
      "text/latex": [
       "$\\displaystyle x^{\\prime\\prime}: $"
      ],
      "text/plain": [
       "<IPython.core.display.Math object>"
      ]
     },
     "metadata": {},
     "output_type": "display_data"
    },
    {
     "data": {
      "text/latex": [
       "$\\displaystyle \\frac{2 X Y p_{1}}{Z^{2}} + \\frac{X \\left(k_{1} \\left(\\frac{X^{2}}{Z^{2}} + \\frac{Y^{2}}{Z^{2}}\\right) + k_{2} \\left(\\frac{X^{2}}{Z^{2}} + \\frac{Y^{2}}{Z^{2}}\\right)^{2} + k_{3} \\left(\\frac{X^{2}}{Z^{2}} + \\frac{Y^{2}}{Z^{2}}\\right)^{3} + 1\\right)}{Z} + p_{2} \\left(\\frac{3 X^{2}}{Z^{2}} + \\frac{Y^{2}}{Z^{2}}\\right)$"
      ],
      "text/plain": [
       "2*X*Y*p1/Z**2 + X*(k1*(X**2/Z**2 + Y**2/Z**2) + k2*(X**2/Z**2 + Y**2/Z**2)**2 + k3*(X**2/Z**2 + Y**2/Z**2)**3 + 1)/Z + p2*(3*X**2/Z**2 + Y**2/Z**2)"
      ]
     },
     "metadata": {},
     "output_type": "display_data"
    },
    {
     "data": {
      "text/latex": [
       "$\\displaystyle y^{\\prime\\prime}: $"
      ],
      "text/plain": [
       "<IPython.core.display.Math object>"
      ]
     },
     "metadata": {},
     "output_type": "display_data"
    },
    {
     "data": {
      "text/latex": [
       "$\\displaystyle \\frac{2 X Y p_{2}}{Z^{2}} + \\frac{Y \\left(k_{1} \\left(\\frac{X^{2}}{Z^{2}} + \\frac{Y^{2}}{Z^{2}}\\right) + k_{2} \\left(\\frac{X^{2}}{Z^{2}} + \\frac{Y^{2}}{Z^{2}}\\right)^{2} + k_{3} \\left(\\frac{X^{2}}{Z^{2}} + \\frac{Y^{2}}{Z^{2}}\\right)^{3} + 1\\right)}{Z} + p_{1} \\left(\\frac{X^{2}}{Z^{2}} + \\frac{3 Y^{2}}{Z^{2}}\\right)$"
      ],
      "text/plain": [
       "2*X*Y*p2/Z**2 + Y*(k1*(X**2/Z**2 + Y**2/Z**2) + k2*(X**2/Z**2 + Y**2/Z**2)**2 + k3*(X**2/Z**2 + Y**2/Z**2)**3 + 1)/Z + p1*(X**2/Z**2 + 3*Y**2/Z**2)"
      ]
     },
     "metadata": {},
     "output_type": "display_data"
    }
   ],
   "source": [
    "from IPython.display import Math\n",
    "k1, k2, k3, p1, p2 = sp.symbols('k1, k2, k3, p1, p2')\n",
    "\n",
    "# [X', Y']\n",
    "xp = X/Z;\n",
    "yp = Y/Z;\n",
    "\n",
    "# r = x'^2 + y'^2\n",
    "xpyp = sp.Matrix([xp, yp])\n",
    "r2 = xpyp.dot(xpyp)\n",
    "\n",
    "# [x'' y'']\n",
    "xpp = xp * (1+ k1*r2 + k2*r2*r2 + k3*r2*r2*r2) + 2*p1*xp*yp + p2*(r2 + 2*xp*xp)\n",
    "ypp = yp * (1+ k1*r2 + k2*r2*r2 + k3*r2*r2*r2) + p1*(r2 + 2*yp*yp) + 2*p2*xp*yp\n",
    "display(Math(r'x^{\\prime\\prime}: '))\n",
    "display(xpp)\n",
    "display(Math(r'y^{\\prime\\prime}: '))\n",
    "display(ypp)"
   ]
  },
  {
   "cell_type": "markdown",
   "id": "2f0cdc98",
   "metadata": {},
   "source": [
    "Now we'll construct the matrix residual expression:"
   ]
  },
  {
   "cell_type": "code",
   "execution_count": 8,
   "id": "b7a00561",
   "metadata": {},
   "outputs": [
    {
     "data": {
      "text/latex": [
       "$\\displaystyle \\left[\\begin{matrix}- c_{x} - f \\left(\\frac{2 X Y p_{1}}{Z^{2}} + \\frac{X \\left(k_{1} \\left(\\frac{X^{2}}{Z^{2}} + \\frac{Y^{2}}{Z^{2}}\\right) + k_{2} \\left(\\frac{X^{2}}{Z^{2}} + \\frac{Y^{2}}{Z^{2}}\\right)^{2} + k_{3} \\left(\\frac{X^{2}}{Z^{2}} + \\frac{Y^{2}}{Z^{2}}\\right)^{3} + 1\\right)}{Z} + p_{2} \\left(\\frac{3 X^{2}}{Z^{2}} + \\frac{Y^{2}}{Z^{2}}\\right)\\right) + u\\\\- c_{y} - f \\left(\\frac{2 X Y p_{2}}{Z^{2}} + \\frac{Y \\left(k_{1} \\left(\\frac{X^{2}}{Z^{2}} + \\frac{Y^{2}}{Z^{2}}\\right) + k_{2} \\left(\\frac{X^{2}}{Z^{2}} + \\frac{Y^{2}}{Z^{2}}\\right)^{2} + k_{3} \\left(\\frac{X^{2}}{Z^{2}} + \\frac{Y^{2}}{Z^{2}}\\right)^{3} + 1\\right)}{Z} + p_{1} \\left(\\frac{X^{2}}{Z^{2}} + \\frac{3 Y^{2}}{Z^{2}}\\right)\\right) + v\\end{matrix}\\right]$"
      ],
      "text/plain": [
       "Matrix([\n",
       "[-c_x - f*(2*X*Y*p1/Z**2 + X*(k1*(X**2/Z**2 + Y**2/Z**2) + k2*(X**2/Z**2 + Y**2/Z**2)**2 + k3*(X**2/Z**2 + Y**2/Z**2)**3 + 1)/Z + p2*(3*X**2/Z**2 + Y**2/Z**2)) + u],\n",
       "[-c_y - f*(2*X*Y*p2/Z**2 + Y*(k1*(X**2/Z**2 + Y**2/Z**2) + k2*(X**2/Z**2 + Y**2/Z**2)**2 + k3*(X**2/Z**2 + Y**2/Z**2)**3 + 1)/Z + p1*(X**2/Z**2 + 3*Y**2/Z**2)) + v]])"
      ]
     },
     "metadata": {},
     "output_type": "display_data"
    }
   ],
   "source": [
    "resid_bc = sp.Matrix([u - (f*xpp+cx), v - (f*ypp+cy)])\n",
    "display(resid_bc)"
   ]
  },
  {
   "cell_type": "markdown",
   "id": "cbb44b60",
   "metadata": {},
   "source": [
    "And calculate the Jacobian:"
   ]
  },
  {
   "cell_type": "code",
   "execution_count": 9,
   "id": "1d83126f",
   "metadata": {},
   "outputs": [
    {
     "data": {
      "text/latex": [
       "$\\displaystyle \\left[\\begin{matrix}- \\frac{2 X Y p_{1}}{Z^{2}} - \\frac{X \\left(k_{1} \\left(\\frac{X^{2}}{Z^{2}} + \\frac{Y^{2}}{Z^{2}}\\right) + k_{2} \\left(\\frac{X^{2}}{Z^{2}} + \\frac{Y^{2}}{Z^{2}}\\right)^{2} + k_{3} \\left(\\frac{X^{2}}{Z^{2}} + \\frac{Y^{2}}{Z^{2}}\\right)^{3} + 1\\right)}{Z} - p_{2} \\left(\\frac{3 X^{2}}{Z^{2}} + \\frac{Y^{2}}{Z^{2}}\\right) & -1 & 0 & - \\frac{X f \\left(\\frac{X^{2}}{Z^{2}} + \\frac{Y^{2}}{Z^{2}}\\right)}{Z} & - \\frac{X f \\left(\\frac{X^{2}}{Z^{2}} + \\frac{Y^{2}}{Z^{2}}\\right)^{2}}{Z} & - \\frac{X f \\left(\\frac{X^{2}}{Z^{2}} + \\frac{Y^{2}}{Z^{2}}\\right)^{3}}{Z} & - \\frac{2 X Y f}{Z^{2}} & - f \\left(\\frac{3 X^{2}}{Z^{2}} + \\frac{Y^{2}}{Z^{2}}\\right)\\\\- \\frac{2 X Y p_{2}}{Z^{2}} - \\frac{Y \\left(k_{1} \\left(\\frac{X^{2}}{Z^{2}} + \\frac{Y^{2}}{Z^{2}}\\right) + k_{2} \\left(\\frac{X^{2}}{Z^{2}} + \\frac{Y^{2}}{Z^{2}}\\right)^{2} + k_{3} \\left(\\frac{X^{2}}{Z^{2}} + \\frac{Y^{2}}{Z^{2}}\\right)^{3} + 1\\right)}{Z} - p_{1} \\left(\\frac{X^{2}}{Z^{2}} + \\frac{3 Y^{2}}{Z^{2}}\\right) & 0 & -1 & - \\frac{Y f \\left(\\frac{X^{2}}{Z^{2}} + \\frac{Y^{2}}{Z^{2}}\\right)}{Z} & - \\frac{Y f \\left(\\frac{X^{2}}{Z^{2}} + \\frac{Y^{2}}{Z^{2}}\\right)^{2}}{Z} & - \\frac{Y f \\left(\\frac{X^{2}}{Z^{2}} + \\frac{Y^{2}}{Z^{2}}\\right)^{3}}{Z} & - f \\left(\\frac{X^{2}}{Z^{2}} + \\frac{3 Y^{2}}{Z^{2}}\\right) & - \\frac{2 X Y f}{Z^{2}}\\end{matrix}\\right]$"
      ],
      "text/plain": [
       "Matrix([\n",
       "[-2*X*Y*p1/Z**2 - X*(k1*(X**2/Z**2 + Y**2/Z**2) + k2*(X**2/Z**2 + Y**2/Z**2)**2 + k3*(X**2/Z**2 + Y**2/Z**2)**3 + 1)/Z - p2*(3*X**2/Z**2 + Y**2/Z**2), -1,  0, -X*f*(X**2/Z**2 + Y**2/Z**2)/Z, -X*f*(X**2/Z**2 + Y**2/Z**2)**2/Z, -X*f*(X**2/Z**2 + Y**2/Z**2)**3/Z,                -2*X*Y*f/Z**2, -f*(3*X**2/Z**2 + Y**2/Z**2)],\n",
       "[-2*X*Y*p2/Z**2 - Y*(k1*(X**2/Z**2 + Y**2/Z**2) + k2*(X**2/Z**2 + Y**2/Z**2)**2 + k3*(X**2/Z**2 + Y**2/Z**2)**3 + 1)/Z - p1*(X**2/Z**2 + 3*Y**2/Z**2),  0, -1, -Y*f*(X**2/Z**2 + Y**2/Z**2)/Z, -Y*f*(X**2/Z**2 + Y**2/Z**2)**2/Z, -Y*f*(X**2/Z**2 + Y**2/Z**2)**3/Z, -f*(X**2/Z**2 + 3*Y**2/Z**2),                -2*X*Y*f/Z**2]])"
      ]
     },
     "metadata": {},
     "output_type": "display_data"
    }
   ],
   "source": [
    "parameter_vector_bc = sp.Matrix([f, cx, cy, k1, k2, k3, p1, p2]);\n",
    "bc_jacobian = resid_bc.jacobian(parameter_vector_bc)\n",
    "display(bc_jacobian)"
   ]
  },
  {
   "cell_type": "markdown",
   "id": "8d0d3676",
   "metadata": {},
   "source": [
    "Great! we've got our Jacobian. It just looks a little hairy. SymPy can further simplify expressions and also perform [common subexpression elimination](https://docs.sympy.org/latest/modules/rewriting.html#common-subexpression-detection-and-collection) which is useful to reduce the amount of transcription necessary to use this elsewhere. In this case we can also just simplify some of this by inspection. In the above definition of the model we defined a few intermediate variables ($x', y', x'', y'', r^2$) for convenience. We can substitute those back into the equation. This isn't just for having a cleaner visual output; it's likely that you'll have to compute these subexpressions to evaluate the residual function. We'll use the [`subs()`](https://docs.sympy.org/latest/modules/core.html?highlight=subs#sympy.core.function.Subs) function to perform these substituions. Unfortunately this function won't recognized the subexpressions (like `xpp`) generated heretofor. Instead we'll have to generate some dummy symbols and replace the corresponding expressions with those dummies."
   ]
  },
  {
   "cell_type": "code",
   "execution_count": 10,
   "id": "54a8de07",
   "metadata": {},
   "outputs": [
    {
     "data": {
      "text/latex": [
       "$\\displaystyle \\left[\\begin{matrix}x_{pp} & -1 & 0 & - r^{2} x_{p} f & - r^{4} x_{p} f & - r^{6} x_{p} f & - 2 x_{p} y_{p} f & - f \\left(3 x_{p}^{2} + y_{p}^{2}\\right)\\\\y_{pp} & 0 & -1 & - r^{2} y_{p} f & - r^{4} y_{p} f & - r^{6} y_{p} f & - f \\left(x_{p}^{2} + 3 y_{p}^{2}\\right) & - 2 x_{p} y_{p} f\\end{matrix}\\right]$"
      ],
      "text/plain": [
       "Matrix([\n",
       "[_x_pp, -1,  0, -_r^2*_x_p*f, -_r^4*_x_p*f, -_r^6*_x_p*f,           -2*_x_p*_y_p*f, -f*(3*_x_p**2 + _y_p**2)],\n",
       "[_y_pp,  0, -1, -_r^2*_y_p*f, -_r^4*_y_p*f, -_r^6*_y_p*f, -f*(_x_p**2 + 3*_y_p**2),           -2*_x_p*_y_p*f]])"
      ]
     },
     "metadata": {},
     "output_type": "display_data"
    }
   ],
   "source": [
    "r2 = sp.Dummy('r^2')\n",
    "r4 = sp.Dummy('r^4')\n",
    "r6 = sp.Dummy('r^6')\n",
    "\n",
    "simp_r2 = bc_jacobian.subs({(X*X)/(Z*Z)+(Y*Y)/(Z*Z): r2, r2*r2:r4, r2*r2*r2:r6})\n",
    "\n",
    "# x_p, y_p are x', y'\n",
    "xp = sp.Dummy('x_p')\n",
    "yp = sp.Dummy('y_p')\n",
    "simp_xpyp = simp_r2.subs({X/Z:xp, Y/Z: yp})\n",
    "\n",
    "xpp = sp.Dummy('x_pp')\n",
    "ypp = sp.Dummy('y_pp')\n",
    "final = simp_xpyp.subs({simp_xpyp[(0,0)]:xpp, simp_xpyp[(1,0)]:ypp})\n",
    "display(final)"
   ]
  },
  {
   "cell_type": "markdown",
   "id": "edd89c8b",
   "metadata": {},
   "source": [
    "# Conclusion\n",
    "\n",
    "And there you have a it: a nice, clean, simplified, expression for the Jacobian of our residual function with respect to the camera parameters ($f, c_x, c_y, k_1, k_2, k_3, p_1, p_2$). Using the techniques in this notebook, you should be able to come up with Jacobians for your own function using SymPy."
   ]
  }
 ],
 "metadata": {
  "kernelspec": {
   "display_name": "Python 3 (ipykernel)",
   "language": "python",
   "name": "python3"
  },
  "language_info": {
   "codemirror_mode": {
    "name": "ipython",
    "version": 3
   },
   "file_extension": ".py",
   "mimetype": "text/x-python",
   "name": "python",
   "nbconvert_exporter": "python",
   "pygments_lexer": "ipython3",
   "version": "3.8.10"
  }
 },
 "nbformat": 4,
 "nbformat_minor": 5
}
